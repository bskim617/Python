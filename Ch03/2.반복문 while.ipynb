{
 "cells": [
  {
   "cell_type": "code",
   "execution_count": null,
   "metadata": {},
   "outputs": [],
   "source": [
    "\"\"\"\n",
    "날짜 : 2023/01/03\n",
    "이름 : 김보성\n",
    "내용 : 파이썬 반복문 while 실습하기\n",
    "\"\"\""
   ]
  },
  {
   "cell_type": "code",
   "execution_count": null,
   "metadata": {},
   "outputs": [],
   "source": [
    "# while\n",
    "i= 1\n",
    "\n",
    "while i <= 5:\n",
    "    print('i : ', i)\n",
    "\n",
    "    i += 1"
   ]
  },
  {
   "cell_type": "code",
   "execution_count": null,
   "metadata": {},
   "outputs": [],
   "source": [
    "# 1부터 10까지 합\n",
    "total, k = 0, 1\n",
    "\n",
    "while k <= 10:\n",
    "    total += k\n",
    "    k += 1\n",
    "    \n",
    "print('1부터 10까지 합 : ', total )"
   ]
  },
  {
   "cell_type": "code",
   "execution_count": null,
   "metadata": {},
   "outputs": [],
   "source": [
    "# 1 부터 10까지 짝수합\n",
    "total, k = 0, 1\n",
    "\n",
    "while k <= 10:\n",
    "    \n",
    "    if k % 2 == 0:\n",
    "        total += k\n",
    "    k += 1\n",
    "\n",
    "print('1부터 10까지 짝수합 : ',  total)\n"
   ]
  },
  {
   "cell_type": "code",
   "execution_count": null,
   "metadata": {},
   "outputs": [],
   "source": [
    "# break\n",
    "num = 1\n",
    "\n",
    "while True:\n",
    "    if num % 5 == 0 and num% 7 == 0:\n",
    "        break\n",
    "    num += 1\n",
    "\n",
    "print('5와 7의 최소공배수 : ', num)"
   ]
  },
  {
   "cell_type": "code",
   "execution_count": null,
   "metadata": {},
   "outputs": [],
   "source": [
    "# continue\n",
    "num = 0\n",
    "\n",
    "while num < 10:\n",
    "    num += 1\n",
    "\n",
    "    if num % 2 == 0:\n",
    "        continue\n",
    "\n",
    "    print(num, end =', ')"
   ]
  }
 ],
 "metadata": {
  "kernelspec": {
   "display_name": "Python 3",
   "language": "python",
   "name": "python3"
  },
  "language_info": {
   "codemirror_mode": {
    "name": "ipython",
    "version": 3
   },
   "file_extension": ".py",
   "mimetype": "text/x-python",
   "name": "python",
   "nbconvert_exporter": "python",
   "pygments_lexer": "ipython3",
   "version": "3.11.1 (tags/v3.11.1:a7a450f, Dec  6 2022, 19:58:39) [MSC v.1934 64 bit (AMD64)]"
  },
  "orig_nbformat": 4,
  "vscode": {
   "interpreter": {
    "hash": "ca3167030a8377a7b82d5e665b459d458267ba920e721652be188ae573e682bb"
   }
  }
 },
 "nbformat": 4,
 "nbformat_minor": 2
}
